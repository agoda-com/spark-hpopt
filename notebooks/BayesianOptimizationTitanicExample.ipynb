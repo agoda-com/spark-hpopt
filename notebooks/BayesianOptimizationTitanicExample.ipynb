{
 "cells": [
  {
   "cell_type": "markdown",
   "metadata": {},
   "source": [
    "# Bayesian Hyperparameter Optimization on the Titanic Dataset"
   ]
  },
  {
   "cell_type": "markdown",
   "metadata": {},
   "source": [
    "Let's apply our methods for Bayesian Hyperparameter Optimization on Kaggles Titanic dataset: https://www.kaggle.com/c/titanic"
   ]
  },
  {
   "cell_type": "markdown",
   "metadata": {},
   "source": [
    "This notebook is created with docker-stacks: https://github.com/jupyter/docker-stacks"
   ]
  },
  {
   "cell_type": "code",
   "execution_count": 1,
   "metadata": {},
   "outputs": [],
   "source": [
    "%%init_spark\n",
    "# Configure Spark to use a local master\n",
    "launcher.master = \"local\"\n",
    "launcher.jars = [\"/home/jovyan/jars/assembly.jar\"]"
   ]
  },
  {
   "cell_type": "code",
   "execution_count": 2,
   "metadata": {},
   "outputs": [
    {
     "data": {
      "text/plain": [
       "Intitializing Scala interpreter ..."
      ]
     },
     "metadata": {},
     "output_type": "display_data"
    },
    {
     "data": {
      "text/plain": [
       "Spark Web UI available at http://1753b9e80bea:4040\n",
       "SparkContext available as 'sc' (version = 2.4.7, master = local, app id = local-1609406215550)\n",
       "SparkSession available as 'spark'\n"
      ]
     },
     "metadata": {},
     "output_type": "display_data"
    },
    {
     "data": {
      "text/plain": [
       "res0: String = 2.4.7\n"
      ]
     },
     "execution_count": 2,
     "metadata": {},
     "output_type": "execute_result"
    }
   ],
   "source": [
    "sc.version"
   ]
  },
  {
   "cell_type": "code",
   "execution_count": 3,
   "metadata": {},
   "outputs": [],
   "source": [
    "%%python\n",
    "import matplotlib\n",
    "matplotlib.use(\"agg\")\n",
    "from matplotlib import pyplot as plt\n",
    "from IPython.display import Image\n",
    "import tempfile\n",
    "import numpy as np"
   ]
  },
  {
   "cell_type": "markdown",
   "metadata": {},
   "source": [
    "## Load data"
   ]
  },
  {
   "cell_type": "markdown",
   "metadata": {},
   "source": [
    "We load the data from HDFS and split it into 5 random groups for crossvalidation."
   ]
  },
  {
   "cell_type": "code",
   "execution_count": 4,
   "metadata": {},
   "outputs": [
    {
     "data": {
      "text/plain": [
       "warning: there was one feature warning; re-run with -feature for details\n",
       "import sys.process._\n",
       "import java.net.URL\n",
       "import java.io.File\n",
       "res1: String = \"\"\n"
      ]
     },
     "execution_count": 4,
     "metadata": {},
     "output_type": "execute_result"
    }
   ],
   "source": [
    "import sys.process._\n",
    "import java.net.URL\n",
    "import java.io.File\n",
    "new URL(\"http://s3.amazonaws.com/assets.datacamp.com/course/Kaggle/train.csv\") #> new File(\"titanic.csv\") !!"
   ]
  },
  {
   "cell_type": "code",
   "execution_count": 5,
   "metadata": {
    "ExecuteTime": {
     "end_time": "2020-11-25T07:45:46.212819Z",
     "start_time": "2020-11-25T07:45:45.448658Z"
    }
   },
   "outputs": [
    {
     "data": {
      "text/plain": [
       "import org.apache.spark.sql.types.{DoubleType, StringType}\n"
      ]
     },
     "execution_count": 5,
     "metadata": {},
     "output_type": "execute_result"
    }
   ],
   "source": [
    "import org.apache.spark.sql.types.{DoubleType, StringType}"
   ]
  },
  {
   "cell_type": "code",
   "execution_count": 6,
   "metadata": {
    "ExecuteTime": {
     "end_time": "2020-11-25T07:45:56.760338Z",
     "start_time": "2020-11-25T07:45:46.219131Z"
    }
   },
   "outputs": [
    {
     "name": "stdout",
     "output_type": "stream",
     "text": [
      "+--------+---------------------------------------------------+---------------+------+----+-------+----------------+----------------+-----+\n",
      "|survived|passenger_name                                     |passenger_class|sex   |age |fare   |siblings_spouses|parents_children|split|\n",
      "+--------+---------------------------------------------------+---------------+------+----+-------+----------------+----------------+-----+\n",
      "|0.0     |Braund, Mr. Owen Harris                            |3              |male  |22.0|7.25   |1.0             |0.0             |1    |\n",
      "|1.0     |Cumings, Mrs. John Bradley (Florence Briggs Thayer)|1              |female|38.0|71.2833|1.0             |0.0             |4    |\n",
      "|1.0     |Heikkinen, Miss. Laina                             |3              |female|26.0|7.925  |0.0             |0.0             |1    |\n",
      "|1.0     |Futrelle, Mrs. Jacques Heath (Lily May Peel)       |1              |female|35.0|53.1   |1.0             |0.0             |3    |\n",
      "|0.0     |Allen, Mr. William Henry                           |3              |male  |35.0|8.05   |0.0             |0.0             |0    |\n",
      "+--------+---------------------------------------------------+---------------+------+----+-------+----------------+----------------+-----+\n",
      "only showing top 5 rows\n",
      "\n"
     ]
    },
    {
     "data": {
      "text/plain": [
       "dataWithNulls: org.apache.spark.sql.Dataset[org.apache.spark.sql.Row] = [survived: double, passenger_name: string ... 7 more fields]\n",
       "meanAge: Double = 29.69911764705882\n",
       "data: org.apache.spark.sql.DataFrame = [survived: double, passenger_name: string ... 7 more fields]\n"
      ]
     },
     "execution_count": 6,
     "metadata": {},
     "output_type": "execute_result"
    }
   ],
   "source": [
    "val dataWithNulls = {\n",
    "    spark.read.option(\"header\", true).csv(\"titanic.csv\")\n",
    "        .repartition(1)\n",
    "        .withColumn(\"survived\", $\"Survived\".cast(DoubleType))\n",
    "        .withColumn(\"age\", $\"Age\".cast(DoubleType))\n",
    "        .withColumn(\"siblings_spouses\", $\"SibSp\".cast(DoubleType))\n",
    "        .withColumn(\"parents_children\", $\"Parch\".cast(DoubleType))\n",
    "        .withColumn(\"fare\", $\"Fare\".cast(DoubleType))\n",
    "        .select($\"survived\", $\"Name\" as \"passenger_name\", $\"Pclass\" as \"passenger_class\", $\"Sex\" as \"sex\",\n",
    "                $\"age\", $\"fare\", $\"siblings_spouses\", $\"parents_children\")\n",
    "        .withColumn(\"split\", abs(hash($\"passenger_name\")) % 5)\n",
    "        .cache\n",
    "}\n",
    "val meanAge = dataWithNulls.select(mean(\"age\")).first.getDouble(0)\n",
    "val data = dataWithNulls.withColumn(\"age\", coalesce($\"age\", lit(meanAge)))\n",
    "data.show(5, false)"
   ]
  },
  {
   "cell_type": "code",
   "execution_count": 7,
   "metadata": {
    "ExecuteTime": {
     "end_time": "2020-11-25T07:45:57.243945Z",
     "start_time": "2020-11-25T07:45:56.766281Z"
    }
   },
   "outputs": [
    {
     "name": "stdout",
     "output_type": "stream",
     "text": [
      "root\n",
      " |-- survived: double (nullable = true)\n",
      " |-- passenger_name: string (nullable = true)\n",
      " |-- passenger_class: string (nullable = true)\n",
      " |-- sex: string (nullable = true)\n",
      " |-- age: double (nullable = false)\n",
      " |-- fare: double (nullable = true)\n",
      " |-- siblings_spouses: double (nullable = true)\n",
      " |-- parents_children: double (nullable = true)\n",
      " |-- split: integer (nullable = true)\n",
      "\n"
     ]
    }
   ],
   "source": [
    "data.printSchema"
   ]
  },
  {
   "cell_type": "markdown",
   "metadata": {},
   "source": [
    "We make sure that the splits look okay."
   ]
  },
  {
   "cell_type": "code",
   "execution_count": 8,
   "metadata": {
    "ExecuteTime": {
     "end_time": "2020-11-25T07:46:03.479654Z",
     "start_time": "2020-11-25T07:45:57.249542Z"
    }
   },
   "outputs": [
    {
     "name": "stdout",
     "output_type": "stream",
     "text": [
      "Split 0, size: 190, survived: 76\n",
      "Split 1, size: 177, survived: 67\n",
      "Split 2, size: 179, survived: 75\n",
      "Split 3, size: 177, survived: 62\n",
      "Split 4, size: 168, survived: 62\n"
     ]
    },
    {
     "data": {
      "text/plain": [
       "n: Long = 891\n"
      ]
     },
     "execution_count": 8,
     "metadata": {},
     "output_type": "execute_result"
    }
   ],
   "source": [
    "val n = data.count\n",
    "(0 until 5).foreach(split => {\n",
    "    val splitData = data.where($\"split\" === split)\n",
    "    val splitCount = splitData.count\n",
    "    val splitSurvived = splitData.where($\"survived\" === 1d).count\n",
    "    println(s\"Split $split, size: $splitCount, survived: $splitSurvived\")\n",
    "})"
   ]
  },
  {
   "cell_type": "markdown",
   "metadata": {},
   "source": [
    "## Build ML Pipeline"
   ]
  },
  {
   "cell_type": "markdown",
   "metadata": {},
   "source": [
    "Let's quickly build a machine learing pipeline with a random forest classifier."
   ]
  },
  {
   "cell_type": "code",
   "execution_count": 9,
   "metadata": {
    "ExecuteTime": {
     "end_time": "2020-11-25T07:46:04.826795Z",
     "start_time": "2020-11-25T07:46:03.485353Z"
    }
   },
   "outputs": [
    {
     "data": {
      "text/plain": [
       "import org.apache.spark.ml.classification.RandomForestClassifier\n",
       "import org.apache.spark.ml.evaluation.BinaryClassificationEvaluator\n",
       "import org.apache.spark.ml.feature.{OneHotEncoderEstimator, SQLTransformer, StringIndexer, VectorAssembler}\n",
       "import org.apache.spark.ml.Pipeline\n"
      ]
     },
     "execution_count": 9,
     "metadata": {},
     "output_type": "execute_result"
    }
   ],
   "source": [
    "import org.apache.spark.ml.classification.RandomForestClassifier\n",
    "import org.apache.spark.ml.evaluation.BinaryClassificationEvaluator\n",
    "import org.apache.spark.ml.feature.{OneHotEncoderEstimator, SQLTransformer, StringIndexer, VectorAssembler}\n",
    "import org.apache.spark.ml.Pipeline"
   ]
  },
  {
   "cell_type": "code",
   "execution_count": 10,
   "metadata": {
    "ExecuteTime": {
     "end_time": "2020-11-25T07:46:06.169601Z",
     "start_time": "2020-11-25T07:46:04.835059Z"
    }
   },
   "outputs": [
    {
     "data": {
      "text/plain": [
       "titleTransformer: org.apache.spark.ml.feature.SQLTransformer = title\n"
      ]
     },
     "execution_count": 10,
     "metadata": {},
     "output_type": "execute_result"
    }
   ],
   "source": [
    "/** Transformer to get the title of a passenger if followed by a dot. */\n",
    "val titleTransformer = new SQLTransformer(\"title\").setStatement(\n",
    "    s\"\"\"\n",
    "         |SELECT *\n",
    "         |, CASE WHEN passenger_name LIKE '%\\\\.%' THEN split(passenger_name, '\\\\\\\\.')[0]\n",
    "         |       ELSE 'Nothing'\n",
    "         |  END AS passenger_title\n",
    "         |FROM __THIS__\n",
    "      \"\"\".stripMargin\n",
    ")"
   ]
  },
  {
   "cell_type": "code",
   "execution_count": 11,
   "metadata": {
    "ExecuteTime": {
     "end_time": "2020-11-25T07:46:09.205488Z",
     "start_time": "2020-11-25T07:46:06.177173Z"
    }
   },
   "outputs": [
    {
     "data": {
      "text/plain": [
       "categoricalCols: Array[String] = Array(passenger_class, sex, passenger_title)\n",
       "indexCols: Array[String] = Array(passenger_class_index, sex_index, passenger_title_index)\n",
       "oheCols: Array[String] = Array(passenger_class_ohe, sex_ohe, passenger_title_ohe)\n",
       "stringIndexers: Array[org.apache.spark.ml.feature.StringIndexer] = Array(string_indexer_passenger_class, string_indexer_sex, string_indexer_passenger_title)\n",
       "oneHotEncoder: org.apache.spark.ml.feature.OneHotEncoderEstimator = ohe\n"
      ]
     },
     "execution_count": 11,
     "metadata": {},
     "output_type": "execute_result"
    }
   ],
   "source": [
    "/** We one-hot encode categorical columns */\n",
    "val categoricalCols = Array(\"passenger_class\", \"sex\", \"passenger_title\")\n",
    "val indexCols = categoricalCols.map(_ + \"_index\")\n",
    "val oheCols = categoricalCols.map(_ + \"_ohe\")\n",
    "val stringIndexers = categoricalCols.map(cc => {\n",
    "    new StringIndexer(s\"string_indexer_$cc\")\n",
    "        .setHandleInvalid(\"keep\")\n",
    "        .setInputCol(cc)\n",
    "        .setOutputCol(cc + \"_index\")\n",
    "})\n",
    "val oneHotEncoder = {\n",
    "    new OneHotEncoderEstimator(\"ohe\")\n",
    "        .setHandleInvalid(\"keep\")\n",
    "        .setDropLast(false)\n",
    "        .setInputCols(indexCols)\n",
    "        .setOutputCols(oheCols)\n",
    "}"
   ]
  },
  {
   "cell_type": "code",
   "execution_count": 12,
   "metadata": {
    "ExecuteTime": {
     "end_time": "2020-11-25T07:46:09.967427Z",
     "start_time": "2020-11-25T07:46:09.211225Z"
    }
   },
   "outputs": [
    {
     "data": {
      "text/plain": [
       "numericalCols: Array[String] = Array(age, fare, siblings_spouses, parents_children)\n",
       "vectorAssembler: org.apache.spark.ml.feature.VectorAssembler = vector_assembler\n"
      ]
     },
     "execution_count": 12,
     "metadata": {},
     "output_type": "execute_result"
    }
   ],
   "source": [
    "val numericalCols = Array(\"age\", \"fare\", \"siblings_spouses\", \"parents_children\")\n",
    "val vectorAssembler = {\n",
    "    new VectorAssembler(\"vector_assembler\")\n",
    "        .setInputCols(oheCols ++ numericalCols)\n",
    "        .setOutputCol(\"features\")\n",
    "}"
   ]
  },
  {
   "cell_type": "code",
   "execution_count": 13,
   "metadata": {
    "ExecuteTime": {
     "end_time": "2020-11-25T07:46:11.310729Z",
     "start_time": "2020-11-25T07:46:09.973349Z"
    }
   },
   "outputs": [
    {
     "data": {
      "text/plain": [
       "rawClassifier: org.apache.spark.ml.classification.RandomForestClassifier = rf\n"
      ]
     },
     "execution_count": 13,
     "metadata": {},
     "output_type": "execute_result"
    }
   ],
   "source": [
    "val rawClassifier = {\n",
    "    new RandomForestClassifier(\"rf\")\n",
    "        .setSeed(20201124L)\n",
    "        .setFeaturesCol(\"features\")\n",
    "        .setLabelCol(\"survived\")\n",
    "        .setProbabilityCol(\"survival_prob\")\n",
    "        .setRawPredictionCol(\"survival_raw_pred\")\n",
    "}"
   ]
  },
  {
   "cell_type": "markdown",
   "metadata": {},
   "source": [
    "We will use sparks BinaryClassificationEvaluator to get the area under the ROC."
   ]
  },
  {
   "cell_type": "code",
   "execution_count": 14,
   "metadata": {
    "ExecuteTime": {
     "end_time": "2020-11-25T07:46:12.073279Z",
     "start_time": "2020-11-25T07:46:11.316182Z"
    }
   },
   "outputs": [
    {
     "data": {
      "text/plain": [
       "evalAuc: org.apache.spark.ml.evaluation.BinaryClassificationEvaluator = binEval_18f0f9313a00\n"
      ]
     },
     "execution_count": 14,
     "metadata": {},
     "output_type": "execute_result"
    }
   ],
   "source": [
    "val evalAuc = {\n",
    "    new BinaryClassificationEvaluator()\n",
    "        .setLabelCol(\"survived\")\n",
    "        .setRawPredictionCol(\"survival_raw_pred\")\n",
    "}"
   ]
  },
  {
   "cell_type": "markdown",
   "metadata": {},
   "source": [
    "## Setup Bayesian Optimization"
   ]
  },
  {
   "cell_type": "code",
   "execution_count": 15,
   "metadata": {
    "ExecuteTime": {
     "end_time": "2020-11-25T07:46:13.413979Z",
     "start_time": "2020-11-25T07:46:12.078884Z"
    }
   },
   "outputs": [
    {
     "data": {
      "text/plain": [
       "import com.agoda.ml.spark.hpopt.BayesianHyperparameterOptimization\n",
       "import com.agoda.ml.spark.hpopt.hyperparam._\n",
       "import com.agoda.ml.spark.hpopt.gaussian._\n",
       "import org.apache.spark.sql.DataFrame\n"
      ]
     },
     "execution_count": 15,
     "metadata": {},
     "output_type": "execute_result"
    }
   ],
   "source": [
    "import com.agoda.ml.spark.hpopt.BayesianHyperparameterOptimization\n",
    "import com.agoda.ml.spark.hpopt.hyperparam._\n",
    "import com.agoda.ml.spark.hpopt.gaussian._\n",
    "import org.apache.spark.sql.DataFrame"
   ]
  },
  {
   "cell_type": "markdown",
   "metadata": {},
   "source": [
    "We add some tunable hyperparameters of the RandomForestClassifier to the hyperparameter space."
   ]
  },
  {
   "cell_type": "code",
   "execution_count": 16,
   "metadata": {
    "ExecuteTime": {
     "end_time": "2020-11-25T07:46:14.182075Z",
     "start_time": "2020-11-25T07:46:13.423039Z"
    }
   },
   "outputs": [
    {
     "data": {
      "text/plain": [
       "hpSpace: com.agoda.ml.spark.hpopt.hyperparam.HyperparameterSpace = HyperparameterSpace([Lcom.agoda.ml.spark.hpopt.hyperparam.HyperparameterType;@665febc8,None)\n"
      ]
     },
     "execution_count": 16,
     "metadata": {},
     "output_type": "execute_result"
    }
   ],
   "source": [
    "val hpSpace = HyperparameterSpace(Array(\n",
    "    CategoricalHyperparameterType(\"impurity\", Seq(\"entropy\", \"gini\")),\n",
    "    IntHyperparameterType(\"maxDepth\", LinearScale(2, 10)),\n",
    "    IntHyperparameterType(\"numTrees\", LogScale(3, 20)),\n",
    "    DoubleHyperparameterType(\"minInfoGain\", LinearScale(0, 0.3))\n",
    "))"
   ]
  },
  {
   "cell_type": "markdown",
   "metadata": {},
   "source": [
    "Now, we are ready to create an instance of BayesianHyperparameterOptimization, the main entry point to the algorithm. Here we can set all the options like the hyperparameter space, the Gaussian Process Kernel, the acquisition function, how many Monte Carlo steps we want to take to evaluate the acquisition function and if we want to maximize or minimize. We will go with the default options and only set our hyperparameter space and maximize to true."
   ]
  },
  {
   "cell_type": "code",
   "execution_count": 17,
   "metadata": {
    "ExecuteTime": {
     "end_time": "2020-11-25T07:46:14.942563Z",
     "start_time": "2020-11-25T07:46:14.188112Z"
    }
   },
   "outputs": [
    {
     "data": {
      "text/plain": [
       "bho: com.agoda.ml.spark.hpopt.BayesianHyperparameterOptimization = com.agoda.ml.spark.hpopt.BayesianHyperparameterOptimization@43a5b651\n"
      ]
     },
     "execution_count": 17,
     "metadata": {},
     "output_type": "execute_result"
    }
   ],
   "source": [
    "val bho = new BayesianHyperparameterOptimization(\n",
    "    hpSpace,\n",
    "    seed = Some(24112020),\n",
    "    maximize = true\n",
    ")"
   ]
  },
  {
   "cell_type": "markdown",
   "metadata": {},
   "source": [
    "As the data set is very small, we will use cross validation for evaluating the metric for each hyperparameter setting."
   ]
  },
  {
   "cell_type": "code",
   "execution_count": 18,
   "metadata": {
    "ExecuteTime": {
     "end_time": "2020-11-25T07:46:16.292630Z",
     "start_time": "2020-11-25T07:46:14.948225Z"
    }
   },
   "outputs": [
    {
     "data": {
      "text/plain": [
       "crossValid: (hp: com.agoda.ml.spark.hpopt.hyperparam.HyperparameterEvalPoint)Double\n"
      ]
     },
     "execution_count": 18,
     "metadata": {},
     "output_type": "execute_result"
    }
   ],
   "source": [
    "def crossValid(hp: HyperparameterEvalPoint): Double = {\n",
    "    \n",
    "    // Set the new hyperparameters to the classifier\n",
    "    val classifier: RandomForestClassifier = hp.copyPipelineStage(rawClassifier) match {case rfc: RandomForestClassifier => rfc}\n",
    "    \n",
    "    val aucSeq = (0 until 5).toSeq.map(split => {\n",
    "        \n",
    "        val train = data.where($\"split\" =!= split)\n",
    "        val eval = data.where($\"split\" === split)\n",
    "        \n",
    "        val pipeline = new Pipeline(\"pipeline\").setStages(Array(titleTransformer) ++ stringIndexers ++ Array(oneHotEncoder, vectorAssembler, classifier))\n",
    "        \n",
    "        // Fit and evaluate the model with updated hyperparameters\n",
    "        evalAuc.evaluate(pipeline.fit(train).transform(eval))\n",
    "    })\n",
    "    \n",
    "    aucSeq.sum / 5\n",
    "}"
   ]
  },
  {
   "cell_type": "markdown",
   "metadata": {},
   "source": [
    "The framework gives us full control over each evaluation step. The BayesianHyperparameterOptimization instance only provides us with a recommendation of the next hyperparameter values to evaluate, the rest is up to the end user."
   ]
  },
  {
   "cell_type": "code",
   "execution_count": 19,
   "metadata": {
    "ExecuteTime": {
     "end_time": "2020-11-25T07:46:19.358788Z",
     "start_time": "2020-11-25T07:46:16.298169Z"
    }
   },
   "outputs": [
    {
     "data": {
      "text/plain": [
       "tune: (iterations: Int, randomIterations: Int, preExistentHP: Array[com.agoda.ml.spark.hpopt.hyperparam.HyperparameterEvalPoint], preExistentMetrics: Array[Double])org.apache.spark.sql.DataFrame\n"
      ]
     },
     "execution_count": 19,
     "metadata": {},
     "output_type": "execute_result"
    }
   ],
   "source": [
    "// This function will take care of the tuning process and return a DataFrame with all tuning steps\n",
    "def tune(\n",
    "    iterations: Int,\n",
    "    randomIterations: Int = 0,\n",
    "    preExistentHP: Array[HyperparameterEvalPoint] = Array.empty[HyperparameterEvalPoint],\n",
    "    preExistentMetrics: Array[Double] = Array.empty[Double]\n",
    "): DataFrame = {\n",
    "    \n",
    "    // This is a tail recursive function for each iteration step\n",
    "    def iterationStep(\n",
    "        step: Int,\n",
    "        previousHP: Array[HyperparameterEvalPoint],\n",
    "        previousMetrics: Array[Double]\n",
    "    ): (Array[HyperparameterEvalPoint], Array[Double]) = {\n",
    "\n",
    "        // Depending on the step count we determine the next hyperparameters to evaluate randomly or by Bayesian Optimization\n",
    "        val nextHP = if (step < randomIterations) bho.getNextRandom else bho.getNext(previousHP, previousMetrics)\n",
    "\n",
    "        // Evaluate the hyperparameters using the cross validation function\n",
    "        val nextMetric = crossValid(nextHP)\n",
    "\n",
    "        // We append our new values to the existing arrays\n",
    "        val allHP = previousHP :+ nextHP\n",
    "        val allMetrics = previousMetrics :+ nextMetric\n",
    "\n",
    "        // Depending on the step count we execute another step or return the arrays of hyperparameters and metrics\n",
    "        if (step < iterations - 1) iterationStep(step + 1, allHP, allMetrics)\n",
    "        else (allHP, allMetrics)\n",
    "    }\n",
    "    \n",
    "    // Run the loop starting from 0\n",
    "    val (allHP, allMetrics) = iterationStep(0, preExistentHP, preExistentMetrics)\n",
    "    \n",
    "    //Return the iterations as a DataFrame\n",
    "    hpSpace.createDF(allHP, allMetrics, \"auc\")(spark.sqlContext)\n",
    "}    "
   ]
  },
  {
   "cell_type": "markdown",
   "metadata": {},
   "source": [
    "## Run Bayesian Optimization"
   ]
  },
  {
   "cell_type": "markdown",
   "metadata": {},
   "source": [
    "Everything is set up, now we can run the tuning and display our results."
   ]
  },
  {
   "cell_type": "code",
   "execution_count": 20,
   "metadata": {
    "ExecuteTime": {
     "end_time": "2020-11-25T07:46:19.845252Z",
     "start_time": "2020-11-25T07:46:19.363746Z"
    }
   },
   "outputs": [
    {
     "data": {
      "text/plain": [
       "import org.apache.spark.sql.expressions.Window\n"
      ]
     },
     "execution_count": 20,
     "metadata": {},
     "output_type": "execute_result"
    }
   ],
   "source": [
    "import org.apache.spark.sql.expressions.Window"
   ]
  },
  {
   "cell_type": "markdown",
   "metadata": {},
   "source": [
    "We go for 50 iterations including 5 random iterations to start with."
   ]
  },
  {
   "cell_type": "code",
   "execution_count": 21,
   "metadata": {
    "ExecuteTime": {
     "end_time": "2020-11-25T07:52:47.843838Z",
     "start_time": "2020-11-25T07:46:19.850030Z"
    }
   },
   "outputs": [
    {
     "data": {
      "text/plain": [
       "bayesianEvaluations: org.apache.spark.sql.DataFrame = [impurity__0: string, maxDepth__1: int ... 4 more fields]\n"
      ]
     },
     "execution_count": 21,
     "metadata": {},
     "output_type": "execute_result"
    }
   ],
   "source": [
    "val bayesianEvaluations = tune(iterations = 50, randomIterations = 5)"
   ]
  },
  {
   "cell_type": "code",
   "execution_count": 22,
   "metadata": {
    "ExecuteTime": {
     "end_time": "2020-11-25T07:52:49.216611Z",
     "start_time": "2020-11-25T07:52:47.849943Z"
    },
    "scrolled": true
   },
   "outputs": [
    {
     "name": "stdout",
     "output_type": "stream",
     "text": [
      "+-----------+-----------+-----------+---------------------+------------------+-----+\n",
      "|impurity__0|maxDepth__1|numTrees__2|minInfoGain__3       |auc               |order|\n",
      "+-----------+-----------+-----------+---------------------+------------------+-----+\n",
      "|entropy    |9          |4          |0.20553962166591674  |0.5               |0    |\n",
      "|gini       |2          |11         |0.1494590297809831   |0.5513157894736842|1    |\n",
      "|gini       |3          |6          |0.0338527449266661   |0.6028874262613682|2    |\n",
      "|gini       |2          |18         |0.045028919663607156 |0.8135835043451214|3    |\n",
      "|entropy    |9          |17         |0.2636275470895306   |0.5               |4    |\n",
      "|entropy    |2          |20         |0.01197981858608066  |0.8277718842449037|5    |\n",
      "|gini       |10         |20         |0.024937920101527733 |0.828835055120107 |6    |\n",
      "|gini       |10         |3          |0.29963324055898305  |0.5               |7    |\n",
      "|entropy    |2          |3          |0.0011472754196543034|0.606672903523858 |8    |\n",
      "|entropy    |2          |3          |0.2988271058014471   |0.5               |9    |\n",
      "|entropy    |10         |20         |1.0280836838749695E-5|0.8494940818880133|10   |\n",
      "|gini       |10         |3          |0.0055506991878989   |0.6005787124781191|11   |\n",
      "|gini       |10         |20         |0.2904080636480082   |0.5               |12   |\n",
      "|entropy    |2          |20         |0.29730929864646843  |0.5               |13   |\n",
      "|gini       |2          |3          |0.29133645902116095  |0.5               |14   |\n",
      "|entropy    |10         |3          |0.009518261352993617 |0.5768507298398184|15   |\n",
      "|gini       |3          |20         |0.29829734114478446  |0.5               |16   |\n",
      "|entropy    |6          |8          |5.991734824307149E-4 |0.8313668544178011|17   |\n",
      "|gini       |8          |8          |0.14456069602228086  |0.5               |18   |\n",
      "|entropy    |2          |8          |0.14391295718028965  |0.5513157894736842|19   |\n",
      "|entropy    |6          |19         |0.12832941958786037  |0.7693295401191902|20   |\n",
      "|gini       |6          |20         |0.010596707883097078 |0.8240750823815309|21   |\n",
      "|gini       |6          |3          |0.14343023186497     |0.5               |22   |\n",
      "|entropy    |5          |8          |0.29918120838235734  |0.5               |23   |\n",
      "|gini       |2          |3          |0.0018109101641142766|0.5599433725472324|24   |\n",
      "|entropy    |5          |3          |0.12912171095128014  |0.5               |25   |\n",
      "|gini       |6          |7          |0.2990617247954585   |0.5               |26   |\n",
      "|entropy    |10         |9          |0.09402802660738514  |0.5872042842153595|27   |\n",
      "|entropy    |10         |3          |0.2995000343370969   |0.5               |28   |\n",
      "|gini       |10         |8          |0.0070578917562011505|0.5793789911406553|29   |\n",
      "|gini       |6          |20         |0.16686571154172625  |0.5               |30   |\n",
      "|gini       |6          |3          |0.001530257831248749 |0.7938261752802547|31   |\n",
      "|entropy    |6          |20         |0.008799929048885779 |0.8315563189420642|32   |\n",
      "|entropy    |2          |8          |0.004888643301260975 |0.8086400785187507|33   |\n",
      "|entropy    |6          |3          |0.298990697994171    |0.5               |34   |\n",
      "|gini       |10         |7          |0.29578082322314486  |0.5               |35   |\n",
      "|entropy    |10         |20         |0.15214159394333704  |0.7693295401191902|36   |\n",
      "|entropy    |6          |3          |1.0603566620122073E-4|0.7990935167331211|37   |\n",
      "|gini       |2          |8          |0.29879877868190186  |0.5               |38   |\n",
      "|entropy    |10         |7          |0.29756722187320134  |0.5               |39   |\n",
      "|gini       |10         |3          |0.15176416353683306  |0.5               |40   |\n",
      "|gini       |10         |20         |0.16300904411110656  |0.5               |41   |\n",
      "|entropy    |2          |20         |0.13991723876688705  |0.7693295401191902|42   |\n",
      "|gini       |2          |3          |0.1453968511330616   |0.5               |43   |\n",
      "|gini       |6          |10         |0.0033566498342475493|0.809673653602632 |44   |\n",
      "|entropy    |6          |20         |0.2993121560881814   |0.5               |45   |\n",
      "|gini       |2          |12         |0.002231047122132923 |0.8279708061600088|46   |\n",
      "|gini       |6          |3          |0.2945658464878449   |0.5               |47   |\n",
      "|entropy    |10         |7          |0.0014167898674488644|0.84526954453874  |48   |\n",
      "|entropy    |2          |8          |0.2993737846726028   |0.5               |49   |\n",
      "+-----------+-----------+-----------+---------------------+------------------+-----+\n",
      "\n"
     ]
    }
   ],
   "source": [
    "bayesianEvaluations.show(50, false)"
   ]
  },
  {
   "cell_type": "markdown",
   "metadata": {},
   "source": [
    "Let's create 50 random iterations as a baseline to compare to."
   ]
  },
  {
   "cell_type": "code",
   "execution_count": 23,
   "metadata": {
    "ExecuteTime": {
     "end_time": "2020-11-25T07:56:33.729705Z",
     "start_time": "2020-11-25T07:52:49.222625Z"
    }
   },
   "outputs": [
    {
     "data": {
      "text/plain": [
       "randomEvaluations: org.apache.spark.sql.DataFrame = [impurity__0: string, maxDepth__1: int ... 4 more fields]\n"
      ]
     },
     "execution_count": 23,
     "metadata": {},
     "output_type": "execute_result"
    }
   ],
   "source": [
    "val randomEvaluations = tune(iterations = 50, randomIterations = 50)"
   ]
  },
  {
   "cell_type": "markdown",
   "metadata": {},
   "source": [
    "Now, we can compare both tuning processes in a table and a graph."
   ]
  },
  {
   "cell_type": "code",
   "execution_count": 24,
   "metadata": {
    "ExecuteTime": {
     "end_time": "2020-11-25T07:56:34.496539Z",
     "start_time": "2020-11-25T07:56:33.735836Z"
    }
   },
   "outputs": [
    {
     "data": {
      "text/plain": [
       "evaluations: org.apache.spark.sql.DataFrame = [order: int, bayesian_auc: double ... 3 more fields]\n"
      ]
     },
     "execution_count": 24,
     "metadata": {},
     "output_type": "execute_result"
    }
   ],
   "source": [
    "val evaluations = bayesianEvaluations.select($\"order\", $\"auc\" as \"bayesian_auc\").join(\n",
    "    randomEvaluations.select($\"order\", $\"auc\" as \"random_auc\"),\n",
    "    Seq(\"order\"),\n",
    "    \"inner\"\n",
    ").orderBy(\"order\").\n",
    "    withColumn(\"bayesian_auc_cum_max\", max(\"bayesian_auc\") over (Window.orderBy(\"order\"))).\n",
    "    withColumn(\"random_auc_cum_max\", max(\"random_auc\") over (Window.orderBy(\"order\")))"
   ]
  },
  {
   "cell_type": "code",
   "execution_count": 25,
   "metadata": {
    "ExecuteTime": {
     "end_time": "2020-11-25T07:56:37.777124Z",
     "start_time": "2020-11-25T07:56:34.504851Z"
    }
   },
   "outputs": [
    {
     "name": "stdout",
     "output_type": "stream",
     "text": [
      "+-----+------------------+------------------+--------------------+------------------+\n",
      "|order|bayesian_auc      |random_auc        |bayesian_auc_cum_max|random_auc_cum_max|\n",
      "+-----+------------------+------------------+--------------------+------------------+\n",
      "|0    |0.5               |0.5               |0.5                 |0.5               |\n",
      "|1    |0.5513157894736842|0.5617959372114497|0.5513157894736842  |0.5617959372114497|\n",
      "|2    |0.6028874262613682|0.5513157894736842|0.6028874262613682  |0.5617959372114497|\n",
      "|3    |0.8135835043451214|0.5               |0.8135835043451214  |0.5617959372114497|\n",
      "|4    |0.5               |0.5               |0.8135835043451214  |0.5617959372114497|\n",
      "|5    |0.8277718842449037|0.5               |0.8277718842449037  |0.5617959372114497|\n",
      "|6    |0.828835055120107 |0.6507829739955672|0.828835055120107   |0.6507829739955672|\n",
      "|7    |0.5               |0.7739117192512308|0.828835055120107   |0.7739117192512308|\n",
      "|8    |0.606672903523858 |0.5               |0.828835055120107   |0.7739117192512308|\n",
      "|9    |0.5               |0.5623237876191919|0.828835055120107   |0.7739117192512308|\n",
      "|10   |0.8494940818880133|0.5267180925666199|0.8494940818880133  |0.7739117192512308|\n",
      "|11   |0.6005787124781191|0.5               |0.8494940818880133  |0.7739117192512308|\n",
      "|12   |0.5               |0.5513157894736842|0.8494940818880133  |0.7739117192512308|\n",
      "|13   |0.5               |0.5               |0.8494940818880133  |0.7739117192512308|\n",
      "|14   |0.5               |0.8000812697189268|0.8494940818880133  |0.8000812697189268|\n",
      "|15   |0.5768507298398184|0.5               |0.8494940818880133  |0.8000812697189268|\n",
      "|16   |0.5               |0.5               |0.8494940818880133  |0.8000812697189268|\n",
      "|17   |0.8313668544178011|0.5               |0.8494940818880133  |0.8000812697189268|\n",
      "|18   |0.5               |0.5               |0.8494940818880133  |0.8000812697189268|\n",
      "|19   |0.5513157894736842|0.8000812697189268|0.8494940818880133  |0.8000812697189268|\n",
      "|20   |0.7693295401191902|0.5               |0.8494940818880133  |0.8000812697189268|\n",
      "|21   |0.8240750823815309|0.7496477108679318|0.8494940818880133  |0.8000812697189268|\n",
      "|22   |0.5               |0.5               |0.8494940818880133  |0.8000812697189268|\n",
      "|23   |0.5               |0.7739117192512308|0.8494940818880133  |0.8000812697189268|\n",
      "|24   |0.5599433725472324|0.7733267350701019|0.8494940818880133  |0.8000812697189268|\n",
      "|25   |0.5               |0.5558979686057248|0.8494940818880133  |0.8000812697189268|\n",
      "|26   |0.5               |0.5513157894736842|0.8494940818880133  |0.8000812697189268|\n",
      "|27   |0.5872042842153595|0.5822644943724188|0.8494940818880133  |0.8000812697189268|\n",
      "|28   |0.5               |0.5               |0.8494940818880133  |0.8000812697189268|\n",
      "|29   |0.5793789911406553|0.7108769592969704|0.8494940818880133  |0.8000812697189268|\n",
      "|30   |0.5               |0.7693295401191902|0.8494940818880133  |0.8000812697189268|\n",
      "|31   |0.7938261752802547|0.5               |0.8494940818880133  |0.8000812697189268|\n",
      "|32   |0.8315563189420642|0.5513157894736842|0.8494940818880133  |0.8000812697189268|\n",
      "|33   |0.8086400785187507|0.8214155929408671|0.8494940818880133  |0.8214155929408671|\n",
      "|34   |0.5               |0.5513157894736842|0.8494940818880133  |0.8214155929408671|\n",
      "|35   |0.5               |0.5410895660203139|0.8494940818880133  |0.8214155929408671|\n",
      "|36   |0.7693295401191902|0.5410895660203139|0.8494940818880133  |0.8214155929408671|\n",
      "|37   |0.7990935167331211|0.5486479171280234|0.8494940818880133  |0.8214155929408671|\n",
      "|38   |0.5               |0.5               |0.8494940818880133  |0.8214155929408671|\n",
      "|39   |0.5               |0.5               |0.8494940818880133  |0.8214155929408671|\n",
      "|40   |0.5               |0.5               |0.8494940818880133  |0.8214155929408671|\n",
      "|41   |0.5               |0.5               |0.8494940818880133  |0.8214155929408671|\n",
      "|42   |0.7693295401191902|0.7693295401191902|0.8494940818880133  |0.8214155929408671|\n",
      "|43   |0.5               |0.5513157894736842|0.8494940818880133  |0.8214155929408671|\n",
      "|44   |0.809673653602632 |0.5               |0.8494940818880133  |0.8214155929408671|\n",
      "|45   |0.5               |0.5314635272391505|0.8494940818880133  |0.8214155929408671|\n",
      "|46   |0.8279708061600088|0.82255506015914  |0.8494940818880133  |0.82255506015914  |\n",
      "|47   |0.5               |0.5               |0.8494940818880133  |0.82255506015914  |\n",
      "|48   |0.84526954453874  |0.5               |0.8494940818880133  |0.82255506015914  |\n",
      "|49   |0.5               |0.5               |0.8494940818880133  |0.82255506015914  |\n",
      "+-----+------------------+------------------+--------------------+------------------+\n",
      "\n"
     ]
    }
   ],
   "source": [
    "evaluations.show(50, false)"
   ]
  },
  {
   "cell_type": "code",
   "execution_count": 26,
   "metadata": {
    "ExecuteTime": {
     "end_time": "2020-11-25T07:56:41.302780Z",
     "start_time": "2020-11-25T07:56:37.781629Z"
    }
   },
   "outputs": [],
   "source": [
    "evaluations.createOrReplaceTempView(\"evaluations\")"
   ]
  },
  {
   "cell_type": "code",
   "execution_count": 27,
   "metadata": {},
   "outputs": [],
   "source": [
    "%%python\n",
    "evaluations = np.array(spark.sql(\"select order, bayesian_auc_cum_max, random_auc_cum_max from evaluations\").collect())\n",
    "evaluations_order = evaluations[:,0]\n",
    "evaluations_bayesian = evaluations[:,1]\n",
    "evaluations_random = evaluations[:,2]"
   ]
  },
  {
   "cell_type": "code",
   "execution_count": 28,
   "metadata": {
    "ExecuteTime": {
     "end_time": "2020-11-25T07:56:42.011006Z",
     "start_time": "2020-11-25T07:56:41.308808Z"
    }
   },
   "outputs": [
    {
     "data": {
      "image/png": "[encoded data removed]",
      "text/plain": [
       "<IPython.core.display.Image object>"
      ]
     },
     "execution_count": 28,
     "metadata": {},
     "output_type": "execute_result"
    }
   ],
   "source": [
    "%%python\n",
    "fig = plt.figure(figsize=[12,10])\n",
    "ax = fig.add_subplot(1,1,1)\n",
    "ax.plot(evaluations_order, evaluations_bayesian, color='g', linewidth=3)\n",
    "ax.plot(evaluations_order, evaluations_random, color='r', linewidth=3)\n",
    "ax.set_title(\"Hyperparameter tuning comparison\", fontsize=25)\n",
    "ax.set_xlabel(\"Iteration step\", fontsize=20)\n",
    "ax.set_ylabel(\"Best AUC\", fontsize=20)\n",
    "ax.tick_params(axis='both', which='major', labelsize=15)\n",
    "ax.legend([\"Bayesian\", \"Random\"], prop={'size': 20})\n",
    "with tempfile.NamedTemporaryFile(suffix=\".png\") as fo:\n",
    "    fig.savefig(fo.name)\n",
    "    retval = Image(filename=fo.name)"
   ]
  }
 ],
 "metadata": {
  "kernelspec": {
   "display_name": "spylon-kernel",
   "language": "scala",
   "name": "spylon-kernel"
  },
  "language_info": {
   "codemirror_mode": "text/x-scala",
   "file_extension": ".scala",
   "help_links": [
    {
     "text": "MetaKernel Magics",
     "url": "https://metakernel.readthedocs.io/en/latest/source/README.html"
    }
   ],
   "mimetype": "text/x-scala",
   "name": "scala",
   "pygments_lexer": "scala",
   "version": "0.4.1"
  },
  "toc": {
   "base_numbering": 1,
   "nav_menu": {},
   "number_sections": true,
   "sideBar": true,
   "skip_h1_title": false,
   "title_cell": "Table of Contents",
   "title_sidebar": "Contents",
   "toc_cell": false,
   "toc_position": {},
   "toc_section_display": true,
   "toc_window_display": false
  }
 },
 "nbformat": 4,
 "nbformat_minor": 1
}
